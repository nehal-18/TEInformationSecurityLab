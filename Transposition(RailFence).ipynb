{
 "cells": [
  {
   "cell_type": "code",
   "execution_count": 1,
   "metadata": {},
   "outputs": [],
   "source": [
    "def encryptRailFence(text, key):\n",
    "\n",
    "\trail = [['\\n' for i in range(len(text))]for j in range(key)]\n",
    "\n",
    "\tdir_down = False\n",
    "\trow, col = 0, 0\n",
    "\t\n",
    "\tfor i in range(len(text)):\t\t\n",
    "\t\tif (row == 0) or (row == key - 1):\n",
    "\t\t\tdir_down = not dir_down\n",
    "\n",
    "\t\trail[row][col] = text[i]\n",
    "\t\tcol += 1\n",
    "\t\t\n",
    "\t\tif dir_down:\n",
    "\t\t\trow += 1\n",
    "\t\telse:\n",
    "\t\t\trow -= 1\n",
    "\tresult = []\n",
    "\tfor i in range(key):\n",
    "\t\tfor j in range(len(text)):\n",
    "\t\t\tif rail[i][j] != '\\n':\n",
    "\t\t\t\tresult.append(rail[i][j])\n",
    "\treturn(\"\" . join(result))\n"
   ]
  },
  {
   "cell_type": "code",
   "execution_count": 2,
   "metadata": {},
   "outputs": [],
   "source": [
    "def decryptRailFence(cipher, key):\n",
    "\n",
    "\trail = [['\\n' for i in range(len(cipher))]for j in range(key)]\n",
    "\t\n",
    "\tdir_down = None\n",
    "\trow, col = 0, 0\n",
    "\t\n",
    "\tfor i in range(len(cipher)):\n",
    "\t\tif row == 0:\n",
    "\t\t\tdir_down = True\n",
    "\t\tif row == key - 1:\n",
    "\t\t\tdir_down = False\n",
    "\t\t\n",
    "\t\trail[row][col] = '*'\n",
    "\t\tcol += 1\n",
    "\t\tif dir_down:\n",
    "\t\t\trow += 1\n",
    "\t\telse:\n",
    "\t\t\trow -= 1\n",
    "\t\t\t\n",
    "\tindex = 0\n",
    "\tfor i in range(key):\n",
    "\t\tfor j in range(len(cipher)):\n",
    "\t\t\tif ((rail[i][j] == '*') and\n",
    "\t\t\t(index < len(cipher))):\n",
    "\t\t\t\trail[i][j] = cipher[index]\n",
    "\t\t\t\tindex += 1\n",
    "\t\t\n",
    "\tresult = []\n",
    "\trow, col = 0, 0\n",
    "\tfor i in range(len(cipher)):\n",
    "\t\t\n",
    "\t\tif row == 0:\n",
    "\t\t\tdir_down = True\n",
    "\t\tif row == key-1:\n",
    "\t\t\tdir_down = False\n",
    "\n",
    "\t\tif (rail[row][col] != '*'):\n",
    "\t\t\tresult.append(rail[row][col])\n",
    "\t\t\tcol += 1\n",
    "\t\t\t\n",
    "\t\tif dir_down:\n",
    "\t\t\trow += 1\n",
    "\t\telse:\n",
    "\t\t\trow -= 1\n",
    "\treturn(\"\".join(result))"
   ]
  },
  {
   "cell_type": "code",
   "execution_count": 3,
   "metadata": {},
   "outputs": [
    {
     "name": "stdout",
     "output_type": "stream",
     "text": [
      "horel ollwd\n",
      "hello world\n"
     ]
    }
   ],
   "source": [
    "if __name__ == \"__main__\":\n",
    " input_data = input(\"Enter your message\")\n",
    " row = int(input(\"Enter your number of rows\"))\n",
    " output_data = encryptRailFence(input_data,row)\n",
    " print(output_data)\n",
    "    \n",
    " print(decryptRailFence(output_data, row))"
   ]
  }
 ],
 "metadata": {
  "kernelspec": {
   "display_name": "base",
   "language": "python",
   "name": "python3"
  },
  "language_info": {
   "codemirror_mode": {
    "name": "ipython",
    "version": 3
   },
   "file_extension": ".py",
   "mimetype": "text/x-python",
   "name": "python",
   "nbconvert_exporter": "python",
   "pygments_lexer": "ipython3",
   "version": "3.10.9"
  },
  "orig_nbformat": 4
 },
 "nbformat": 4,
 "nbformat_minor": 2
}
