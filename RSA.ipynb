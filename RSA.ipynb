{
 "cells": [
  {
   "cell_type": "code",
   "execution_count": 4,
   "metadata": {},
   "outputs": [
    {
     "name": "stdout",
     "output_type": "stream",
     "text": [
      "b'E\\xd1\\x1cre\\xe0\\x8a\\x9erc\\xc5\\xd5\\x0b\\xb4\\xafUT\\x0b\\xeb\\xaf\\xd5\\xfd\\x03b\\x0cz\\xa2\\'f\\xcd\\xecq\\x99\\x0c\\x837\\xad\\x1d?\\xd1C\\xab\\xbb0j\\x8fo\\xafx\\xe1\\xab\\x08\\x03\\rHA\\xac\\x14G\\xb4\\xb3<`C-\\xc0\\x1f\\xd1O+\\xd1\\x0f&dzr^\\x10\\x94\\x03\\x8b\\xc9\\xe0jL\\x8b\\x18\\xf7a0\\x9a[+\\xd5\\x87n\\xbf\\xd3\\xd8/\"W\\x12\\xf28\"\\xf4\\xfdOU\"\\x8d\\xbb\\x93c|\\x99\\x08\\x1a\\xd3S\\xf7\\xee\\xa6\\x1c\\x1b\\x14\\x87\\xcfc\\xd3M\\xe3\\xb4\\x0b\\xc3\\xa2\\x9b3\\x87\\x8a|=\\xb7b\\xc9w\\x19B\\xf4\\x16\\xb3\\xa7\\xcf\\x01\\xea\\xabs\\x10\\x92.\\x89<B\\x88m\\x12\\x8d\\x18\\x1e\\x97\\x05\\x1d,N\\x02\\xc1\\x07\\x86\\xdc\\x84)\\x16\\xd0(\\x9c\\xe5\\x1dJD\\x84\\xbe\\xb5*\\xfc\\xdc\\xe0\\x0e\\x19\\xb7\\xf2\\x91c=\\x0fj\\xb7\"^\\xc9\\xf6\\x94g\\x17\\xa3\\xf0\\xd6\\x1dW\\xb0\\xff_\\xbb\\xde\\xbe\\x87\\x81\\x94\\xb9 i\\xcf_\\xb2II\\xebF\\xb5\\x94\\xf7\\xdc* \\x1byW\\xd4fV\\xe6\\xc3\\t\\x8f\\xd0L'\n",
      "b'Rsa algorithm in python'\n"
     ]
    }
   ],
   "source": [
    "#pip install pycrypto\n",
    "from Crypto.PublicKey import RSA\n",
    "from Crypto.Cipher import PKCS1_OAEP\n",
    "\n",
    "key = RSA.generate(2048)\n",
    "private_key = key.export_key()\n",
    "public_key = key.publickey().export_key()\n",
    "\n",
    "str = input(\"Enter data that you want to encrypt:\")\n",
    "message = bytes(str,'utf-8')\n",
    "\n",
    "cipher = PKCS1_OAEP.new(RSA.import_key(public_key))\n",
    "ciphertext = cipher.encrypt(message)\n",
    "\n",
    "print(ciphertext)\n",
    "\n",
    "decipher = PKCS1_OAEP.new(RSA.import_key(private_key))\n",
    "plaintext = decipher.decrypt(ciphertext)\n",
    "\n",
    "print(plaintext)"
   ]
  },
  {
   "cell_type": "code",
   "execution_count": 11,
   "metadata": {},
   "outputs": [
    {
     "name": "stdout",
     "output_type": "stream",
     "text": [
      "n = 21\n",
      "e = 3\n",
      "e = 4\n",
      "e = 5\n",
      "d = 5.0\n",
      "Public key: (5, 21)\n",
      "Private key: (5, 21)\n",
      "Original message: 11\n",
      "Encrypted message: 2.0\n",
      "Decrypted message: 11.0\n"
     ]
    }
   ],
   "source": [
    "import math\n",
    "\n",
    "p = 3\n",
    "q = 7\n",
    "\n",
    "def gcd(a, b):\n",
    "    while b != 0:\n",
    "        a, b = b, a % b\n",
    "    return a\n",
    "  \n",
    "n = p*q\n",
    "print (\"n =\", n)\n",
    "# step 3\n",
    "phi = (p-1)*(q-1)\n",
    "# step 4\n",
    "e = 2\n",
    "while(e<phi):\n",
    "   if (gcd(e, phi) == 1):\n",
    "       break\n",
    "   else:\n",
    "     e += 1\n",
    "     print (\"e =\", e)\n",
    "# step 5\n",
    "k = 2\n",
    "d = ((k*phi)+1)/e\n",
    "\n",
    "print (\"d =\", d)\n",
    "print (\"Public key: (%d, %d)\" % (e, n))\n",
    "print (\"Private key: (%d, %d)\" % (d, n))\n",
    "\n",
    "# plain text\n",
    "msg = 11\n",
    "\n",
    "print (\"Original message:\", msg)\n",
    "# encryption\n",
    "C = pow(msg, e)\n",
    "C = math.fmod(C, n)\n",
    "print (\"Encrypted message:\", C)\n",
    "# decryption\n",
    "M = pow(C, d)\n",
    "M = math.fmod(M, n)\n",
    "print (\"Decrypted message:\", M)\n"
   ]
  }
 ],
 "metadata": {
  "kernelspec": {
   "display_name": "base",
   "language": "python",
   "name": "python3"
  },
  "language_info": {
   "codemirror_mode": {
    "name": "ipython",
    "version": 3
   },
   "file_extension": ".py",
   "mimetype": "text/x-python",
   "name": "python",
   "nbconvert_exporter": "python",
   "pygments_lexer": "ipython3",
   "version": "3.10.9"
  },
  "orig_nbformat": 4
 },
 "nbformat": 4,
 "nbformat_minor": 2
}
