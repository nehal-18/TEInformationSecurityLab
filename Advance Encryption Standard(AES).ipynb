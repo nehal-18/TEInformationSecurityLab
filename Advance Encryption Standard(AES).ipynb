{
 "cells": [
  {
   "attachments": {},
   "cell_type": "markdown",
   "metadata": {},
   "source": [
    "\n",
    "1. First, we import our library/modules Crypto.Cipher and Crypto.Random.\n",
    "\n",
    "2. Next, we define our data. The data in this case must be in byte form, hence the b”SECRETDATA”.  Byte literals are always prefixed with ‘b’ or ‘B’.\n",
    "\n",
    "3. get_random_bytes returns a random byte string of length N. N must be 16, 24 or 32 bytes long. This is our key.\n",
    "\n",
    "4. We use AES.new() to create our cipher. It takes 2 arguments: the key in bytes, which we defined with the previous statement, and the mode which is a constant."
   ]
  },
  {
   "cell_type": "code",
   "execution_count": 1,
   "metadata": {},
   "outputs": [
    {
     "name": "stdout",
     "output_type": "stream",
     "text": [
      "Key: 512e96a7dcc496a1abcc9edbc2982c80\n",
      "Ciphertext: a52f0911fafac21e059a421a8850a056\n",
      "Plaintext: hello world\u0005\u0005\u0005\u0005\u0005\n"
     ]
    }
   ],
   "source": [
    "#AES - ECB MODE\n",
    "#pip install pycrypto\n",
    "from Crypto.Cipher import AES\n",
    "from Crypto.Util.Padding import pad, unpad\n",
    "from Crypto.Random import get_random_bytes\n",
    "\n",
    "# Generate a random  key\n",
    "key_size = int(input(\"Enter key Size 16,24 or 32:\"))\n",
    "key = get_random_bytes(key_size)\n",
    "\n",
    "# Create a cipher object with the key and ECB mode\n",
    "cipher = AES.new(key, AES.MODE_ECB)\n",
    "\n",
    "# Encrypt some data\n",
    "str = input(\"Enter data that you want to encrypt:\")\n",
    "byte_data = bytes(str,'utf-8')\n",
    "data = pad(byte_data, 16)\n",
    "ciphertext = cipher.encrypt(data)\n",
    "\n",
    "# Decrypt the data with the same key and ECB mode\n",
    "cipher = AES.new(key, AES.MODE_ECB)\n",
    "plaintext = cipher.decrypt(ciphertext)\n",
    "\n",
    "# Print the results\n",
    "print(\"Key:\", key.hex())\n",
    "print(\"Ciphertext:\", ciphertext.hex())\n",
    "print(\"Plaintext:\", plaintext.decode())\n"
   ]
  },
  {
   "cell_type": "code",
   "execution_count": 2,
   "metadata": {},
   "outputs": [
    {
     "name": "stdout",
     "output_type": "stream",
     "text": [
      "Key: 764c6f81d7f1e13fc37b517eaca6358e\n",
      "IV: 1d043cc78ff60df7574248c1b5a70c1b\n",
      "Ciphertext: 4b35c30632908bff4c4a69d140580003\n",
      "Plaintext: hello world\u0005\u0005\u0005\u0005\u0005\n"
     ]
    }
   ],
   "source": [
    "#AES - CBC MODE\n",
    "# Import the library\n",
    "from Crypto.Cipher import AES\n",
    "from Crypto.Util.Padding import pad, unpad\n",
    "from Crypto.Random import get_random_bytes\n",
    "\n",
    "# Generate a random key\n",
    "key_size = int(input(\"Enter key Size 16,24 or 32:\"))\n",
    "key = get_random_bytes(key_size)\n",
    "\n",
    "# Generate a random 16-byte initialization vector\n",
    "iv = get_random_bytes(16)\n",
    "\n",
    "# Create a cipher object with the key and iv\n",
    "cipher = AES.new(key, AES.MODE_CBC, iv)\n",
    "\n",
    "# Encrypt some data\n",
    "str = input(\"Enter data that you want to encrypt:\")\n",
    "byte_data = bytes(str,'utf-8')\n",
    "data = pad(byte_data, 16)\n",
    "ciphertext = cipher.encrypt(data)\n",
    "\n",
    "# Decrypt the data with the same key and iv\n",
    "cipher = AES.new(key, AES.MODE_CBC, iv)\n",
    "plaintext = cipher.decrypt(ciphertext)\n",
    "\n",
    "# Print the results\n",
    "print(\"Key:\", key.hex())\n",
    "print(\"IV:\", iv.hex())\n",
    "print(\"Ciphertext:\", ciphertext.hex())\n",
    "print(\"Plaintext:\", plaintext.decode())\n"
   ]
  }
 ],
 "metadata": {
  "kernelspec": {
   "display_name": "Python 3",
   "language": "python",
   "name": "python3"
  },
  "language_info": {
   "codemirror_mode": {
    "name": "ipython",
    "version": 3
   },
   "file_extension": ".py",
   "mimetype": "text/x-python",
   "name": "python",
   "nbconvert_exporter": "python",
   "pygments_lexer": "ipython3",
   "version": "3.10.9"
  },
  "orig_nbformat": 4
 },
 "nbformat": 4,
 "nbformat_minor": 2
}
