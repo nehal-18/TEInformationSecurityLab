{
 "cells": [
  {
   "cell_type": "code",
   "execution_count": 2,
   "metadata": {},
   "outputs": [
    {
     "name": "stdout",
     "output_type": "stream",
     "text": [
      "Key used: b'\\xf2@\\x90S\\x04\\xb1\\xe7\\x0c'\n",
      "Plaintext: vefvrwv4rvwrca\n",
      "Plaintext with b conversion and padding: b'vefvrwv4rvwrca\\x02\\x02'\n",
      "Ciphertext generated: b'\\xc8\\xb3\\xe93\\xb0\\xe7m\\xa2\\xfb]\\xf6;\\xf8\\xdd0X'\n",
      "Decrypted generated: b'vefvrwv4rvwrca\\x02\\x02'\n"
     ]
    }
   ],
   "source": [
    "#pip install pycrypto\n",
    "from Crypto.Cipher import DES\n",
    "from Crypto.Util.Padding import pad\n",
    "from Crypto.Random import get_random_bytes\n",
    "\n",
    "# Generate a random 64-bit key\n",
    "key = get_random_bytes(8)\n",
    "\n",
    "# Create a DES cipher object with the key\n",
    "cipher = DES.new(key, DES.MODE_ECB)\n",
    "\n",
    "# Encrypt a 64-bit block of data\n",
    "str = input(\"Enter data that you want to encrypt:\")\n",
    "byte_data = bytes(str,'utf-8')\n",
    "plaintext = pad(byte_data, 8) # 8 bytes\n",
    "\n",
    "ciphertext = cipher.encrypt(plaintext)\n",
    "\n",
    "# Decrypt the ciphertext\n",
    "decrypted = cipher.decrypt(ciphertext)\n",
    "\n",
    "print(\"Key used:\",key)\n",
    "print(\"Plaintext:\", str)\n",
    "print(\"Plaintext with b conversion and padding:\", plaintext)\n",
    "print(\"Ciphertext generated:\", ciphertext)\n",
    "print(\"Decrypted generated:\", decrypted)\n"
   ]
  }
 ],
 "metadata": {
  "kernelspec": {
   "display_name": "base",
   "language": "python",
   "name": "python3"
  },
  "language_info": {
   "codemirror_mode": {
    "name": "ipython",
    "version": 3
   },
   "file_extension": ".py",
   "mimetype": "text/x-python",
   "name": "python",
   "nbconvert_exporter": "python",
   "pygments_lexer": "ipython3",
   "version": "3.10.9"
  },
  "orig_nbformat": 4
 },
 "nbformat": 4,
 "nbformat_minor": 2
}
