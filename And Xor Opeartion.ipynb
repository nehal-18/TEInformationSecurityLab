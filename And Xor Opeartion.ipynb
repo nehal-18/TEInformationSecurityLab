{
 "cells": [
  {
   "cell_type": "code",
   "execution_count": 19,
   "metadata": {},
   "outputs": [],
   "source": [
    "string = \"\\Hello World\""
   ]
  },
  {
   "cell_type": "code",
   "execution_count": 20,
   "metadata": {},
   "outputs": [
    {
     "name": "stdout",
     "output_type": "stream",
     "text": [
      "AND result: \\Hello World\n"
     ]
    }
   ],
   "source": [
    "# AND operation with 127\n",
    "and_result = \"\"\n",
    "for char in string:\n",
    "    and_result += chr(ord(char) & 127)\n",
    "\n",
    "print(\"AND result:\", and_result)"
   ]
  },
  {
   "cell_type": "code",
   "execution_count": 21,
   "metadata": {},
   "outputs": [
    {
     "name": "stdout",
     "output_type": "stream",
     "text": [
      "AND result: \n"
     ]
    }
   ],
   "source": [
    "# AND operation with 127\n",
    "or_result = \"\"\n",
    "for char in string:\n",
    "    or_result += chr(ord(char) | 127)\n",
    "\n",
    "print(\"AND result:\", or_result)"
   ]
  },
  {
   "cell_type": "code",
   "execution_count": 22,
   "metadata": {},
   "outputs": [
    {
     "name": "stdout",
     "output_type": "stream",
     "text": [
      "\u0013\u001bR result: #7\u001a\u0013\u0013\u0010_(\u0010\n"
     ]
    }
   ],
   "source": [
    "# XOR operation with 127\n",
    "xor_result = \"\"\n",
    "for char in string:\n",
    "    xor_result += chr(ord(char) ^ 127)\n",
    "\n",
    "print(\"XOR result:\", xor_result)"
   ]
  }
 ],
 "metadata": {
  "kernelspec": {
   "display_name": "base",
   "language": "python",
   "name": "python3"
  },
  "language_info": {
   "codemirror_mode": {
    "name": "ipython",
    "version": 3
   },
   "file_extension": ".py",
   "mimetype": "text/x-python",
   "name": "python",
   "nbconvert_exporter": "python",
   "pygments_lexer": "ipython3",
   "version": "3.10.9"
  },
  "orig_nbformat": 4
 },
 "nbformat": 4,
 "nbformat_minor": 2
}
